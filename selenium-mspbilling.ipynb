{
  "nbformat": 4,
  "nbformat_minor": 0,
  "metadata": {
    "colab": {
      "name": "mspbilling.ipynb의 사본",
      "provenance": [],
      "collapsed_sections": [],
      "authorship_tag": "ABX9TyMPXiy6fvztA9pyKE/gRMHM"
    },
    "kernelspec": {
      "name": "python3",
      "display_name": "Python 3"
    },
    "language_info": {
      "name": "python"
    }
  },
  "cells": [
    {
      "cell_type": "markdown",
      "source": [
        "# 지난 주 값 세팅\n"
      ],
      "metadata": {
        "id": "p9XkKvIekKjL"
      }
    },
    {
      "cell_type": "code",
      "source": [
        "#달이 넘어가고 첫번째 수행하는거면 1로 세팅\n",
        "# ex, 3월 -> 4월\n",
        "# 이 경우 *_old 값 안바꿔도 됨\n",
        "new_month_flag=0"
      ],
      "metadata": {
        "id": "QVWi6bD_uXXq"
      },
      "execution_count": null,
      "outputs": []
    },
    {
      "cell_type": "code",
      "source": [
        "# 1주일 합계\n",
        "week_total_old=1490000\n",
        "# 월 단위 누적\n",
        "month_accum_old=3856000\n",
        "\n",
        "# aws 총액 달러, 한화\n",
        "AWS_total_dlr_old=1109\n",
        "AWS_total_old=1136000\n",
        "\n",
        "# azure 총액\n",
        "AZURE_total_old=1316000"
      ],
      "metadata": {
        "id": "hs6SR97YkNRp"
      },
      "execution_count": null,
      "outputs": []
    },
    {
      "cell_type": "markdown",
      "source": [
        "# ahnlab - AWS"
      ],
      "metadata": {
        "id": "-qik41EukFzx"
      }
    },
    {
      "cell_type": "code",
      "source": [
        "!pip install selenium\n",
        "!apt-get update\n",
        "!apt install chromium-chromedriver"
      ],
      "metadata": {
        "colab": {
          "base_uri": "https://localhost:8080/"
        },
        "id": "3nMfcXFntJ25",
        "outputId": "9249c935-fefa-4d61-bd21-97625174d7b7"
      },
      "execution_count": null,
      "outputs": [
        {
          "output_type": "stream",
          "name": "stdout",
          "text": [
            "Collecting selenium\n",
            "  Downloading selenium-4.1.3-py3-none-any.whl (968 kB)\n",
            "\u001b[K     |████████████████████████████████| 968 kB 7.9 MB/s \n",
            "\u001b[?25hCollecting trio~=0.17\n",
            "  Downloading trio-0.20.0-py3-none-any.whl (359 kB)\n",
            "\u001b[K     |████████████████████████████████| 359 kB 27.8 MB/s \n",
            "\u001b[?25hCollecting urllib3[secure,socks]~=1.26\n",
            "  Downloading urllib3-1.26.9-py2.py3-none-any.whl (138 kB)\n",
            "\u001b[K     |████████████████████████████████| 138 kB 51.2 MB/s \n",
            "\u001b[?25hCollecting trio-websocket~=0.9\n",
            "  Downloading trio_websocket-0.9.2-py3-none-any.whl (16 kB)\n",
            "Requirement already satisfied: sortedcontainers in /usr/local/lib/python3.7/dist-packages (from trio~=0.17->selenium) (2.4.0)\n",
            "Requirement already satisfied: idna in /usr/local/lib/python3.7/dist-packages (from trio~=0.17->selenium) (2.10)\n",
            "Collecting sniffio\n",
            "  Downloading sniffio-1.2.0-py3-none-any.whl (10 kB)\n",
            "Requirement already satisfied: attrs>=19.2.0 in /usr/local/lib/python3.7/dist-packages (from trio~=0.17->selenium) (21.4.0)\n",
            "Collecting async-generator>=1.9\n",
            "  Downloading async_generator-1.10-py3-none-any.whl (18 kB)\n",
            "Collecting outcome\n",
            "  Downloading outcome-1.1.0-py2.py3-none-any.whl (9.7 kB)\n",
            "Collecting wsproto>=0.14\n",
            "  Downloading wsproto-1.1.0-py3-none-any.whl (24 kB)\n",
            "Collecting cryptography>=1.3.4\n",
            "  Downloading cryptography-36.0.2-cp36-abi3-manylinux_2_24_x86_64.whl (3.6 MB)\n",
            "\u001b[K     |████████████████████████████████| 3.6 MB 51.0 MB/s \n",
            "\u001b[?25hRequirement already satisfied: certifi in /usr/local/lib/python3.7/dist-packages (from urllib3[secure,socks]~=1.26->selenium) (2021.10.8)\n",
            "Collecting pyOpenSSL>=0.14\n",
            "  Downloading pyOpenSSL-22.0.0-py2.py3-none-any.whl (55 kB)\n",
            "\u001b[K     |████████████████████████████████| 55 kB 4.2 MB/s \n",
            "\u001b[?25hRequirement already satisfied: PySocks!=1.5.7,<2.0,>=1.5.6 in /usr/local/lib/python3.7/dist-packages (from urllib3[secure,socks]~=1.26->selenium) (1.7.1)\n",
            "Requirement already satisfied: cffi>=1.12 in /usr/local/lib/python3.7/dist-packages (from cryptography>=1.3.4->urllib3[secure,socks]~=1.26->selenium) (1.15.0)\n",
            "Requirement already satisfied: pycparser in /usr/local/lib/python3.7/dist-packages (from cffi>=1.12->cryptography>=1.3.4->urllib3[secure,socks]~=1.26->selenium) (2.21)\n",
            "Collecting h11<1,>=0.9.0\n",
            "  Downloading h11-0.13.0-py3-none-any.whl (58 kB)\n",
            "\u001b[K     |████████████████████████████████| 58 kB 5.0 MB/s \n",
            "\u001b[?25hRequirement already satisfied: typing-extensions in /usr/local/lib/python3.7/dist-packages (from h11<1,>=0.9.0->wsproto>=0.14->trio-websocket~=0.9->selenium) (4.1.1)\n",
            "Installing collected packages: sniffio, outcome, h11, cryptography, async-generator, wsproto, urllib3, trio, pyOpenSSL, trio-websocket, selenium\n",
            "  Attempting uninstall: urllib3\n",
            "    Found existing installation: urllib3 1.24.3\n",
            "    Uninstalling urllib3-1.24.3:\n",
            "      Successfully uninstalled urllib3-1.24.3\n",
            "\u001b[31mERROR: pip's dependency resolver does not currently take into account all the packages that are installed. This behaviour is the source of the following dependency conflicts.\n",
            "requests 2.23.0 requires urllib3!=1.25.0,!=1.25.1,<1.26,>=1.21.1, but you have urllib3 1.26.9 which is incompatible.\n",
            "datascience 0.10.6 requires folium==0.2.1, but you have folium 0.8.3 which is incompatible.\u001b[0m\n",
            "Successfully installed async-generator-1.10 cryptography-36.0.2 h11-0.13.0 outcome-1.1.0 pyOpenSSL-22.0.0 selenium-4.1.3 sniffio-1.2.0 trio-0.20.0 trio-websocket-0.9.2 urllib3-1.26.9 wsproto-1.1.0\n",
            "Ign:1 https://developer.download.nvidia.com/compute/cuda/repos/ubuntu1804/x86_64  InRelease\n",
            "Ign:2 https://developer.download.nvidia.com/compute/machine-learning/repos/ubuntu1804/x86_64  InRelease\n",
            "Hit:3 https://developer.download.nvidia.com/compute/cuda/repos/ubuntu1804/x86_64  Release\n",
            "Get:4 http://security.ubuntu.com/ubuntu bionic-security InRelease [88.7 kB]\n",
            "Get:5 https://cloud.r-project.org/bin/linux/ubuntu bionic-cran40/ InRelease [3,626 B]\n",
            "Hit:6 https://developer.download.nvidia.com/compute/machine-learning/repos/ubuntu1804/x86_64  Release\n",
            "Hit:7 http://archive.ubuntu.com/ubuntu bionic InRelease\n",
            "Get:8 http://archive.ubuntu.com/ubuntu bionic-updates InRelease [88.7 kB]\n",
            "Get:9 http://ppa.launchpad.net/c2d4u.team/c2d4u4.0+/ubuntu bionic InRelease [15.9 kB]\n",
            "Get:10 http://archive.ubuntu.com/ubuntu bionic-backports InRelease [74.6 kB]\n",
            "Hit:12 http://ppa.launchpad.net/cran/libgit2/ubuntu bionic InRelease\n",
            "Get:13 http://ppa.launchpad.net/deadsnakes/ppa/ubuntu bionic InRelease [15.9 kB]\n",
            "Hit:15 http://ppa.launchpad.net/graphics-drivers/ppa/ubuntu bionic InRelease\n",
            "Get:16 http://security.ubuntu.com/ubuntu bionic-security/universe amd64 Packages [1,496 kB]\n",
            "Get:17 http://archive.ubuntu.com/ubuntu bionic-updates/main amd64 Packages [3,165 kB]\n",
            "Get:18 http://security.ubuntu.com/ubuntu bionic-security/restricted amd64 Packages [907 kB]\n",
            "Get:19 http://security.ubuntu.com/ubuntu bionic-security/main amd64 Packages [2,728 kB]\n",
            "Get:20 http://archive.ubuntu.com/ubuntu bionic-updates/universe amd64 Packages [2,272 kB]\n",
            "Get:21 http://ppa.launchpad.net/c2d4u.team/c2d4u4.0+/ubuntu bionic/main Sources [1,950 kB]\n",
            "Get:22 http://archive.ubuntu.com/ubuntu bionic-updates/restricted amd64 Packages [941 kB]\n",
            "Get:23 http://ppa.launchpad.net/c2d4u.team/c2d4u4.0+/ubuntu bionic/main amd64 Packages [999 kB]\n",
            "Get:24 http://ppa.launchpad.net/deadsnakes/ppa/ubuntu bionic/main amd64 Packages [45.3 kB]\n",
            "Fetched 14.8 MB in 6s (2,587 kB/s)\n",
            "Reading package lists... Done\n",
            "Reading package lists... Done\n",
            "Building dependency tree       \n",
            "Reading state information... Done\n",
            "The following additional packages will be installed:\n",
            "  chromium-browser chromium-browser-l10n chromium-codecs-ffmpeg-extra\n",
            "Suggested packages:\n",
            "  webaccounts-chromium-extension unity-chromium-extension\n",
            "The following NEW packages will be installed:\n",
            "  chromium-browser chromium-browser-l10n chromium-chromedriver\n",
            "  chromium-codecs-ffmpeg-extra\n",
            "0 upgraded, 4 newly installed, 0 to remove and 56 not upgraded.\n",
            "Need to get 88.3 MB of archives.\n",
            "After this operation, 294 MB of additional disk space will be used.\n",
            "Get:1 http://archive.ubuntu.com/ubuntu bionic-updates/universe amd64 chromium-codecs-ffmpeg-extra amd64 99.0.4844.84-0ubuntu0.18.04.1 [1,142 kB]\n",
            "Get:2 http://archive.ubuntu.com/ubuntu bionic-updates/universe amd64 chromium-browser amd64 99.0.4844.84-0ubuntu0.18.04.1 [77.7 MB]\n",
            "Get:3 http://archive.ubuntu.com/ubuntu bionic-updates/universe amd64 chromium-browser-l10n all 99.0.4844.84-0ubuntu0.18.04.1 [4,397 kB]\n",
            "Get:4 http://archive.ubuntu.com/ubuntu bionic-updates/universe amd64 chromium-chromedriver amd64 99.0.4844.84-0ubuntu0.18.04.1 [5,092 kB]\n",
            "Fetched 88.3 MB in 3s (29.5 MB/s)\n",
            "Selecting previously unselected package chromium-codecs-ffmpeg-extra.\n",
            "(Reading database ... 155501 files and directories currently installed.)\n",
            "Preparing to unpack .../chromium-codecs-ffmpeg-extra_99.0.4844.84-0ubuntu0.18.04.1_amd64.deb ...\n",
            "Unpacking chromium-codecs-ffmpeg-extra (99.0.4844.84-0ubuntu0.18.04.1) ...\n",
            "Selecting previously unselected package chromium-browser.\n",
            "Preparing to unpack .../chromium-browser_99.0.4844.84-0ubuntu0.18.04.1_amd64.deb ...\n",
            "Unpacking chromium-browser (99.0.4844.84-0ubuntu0.18.04.1) ...\n",
            "Selecting previously unselected package chromium-browser-l10n.\n",
            "Preparing to unpack .../chromium-browser-l10n_99.0.4844.84-0ubuntu0.18.04.1_all.deb ...\n",
            "Unpacking chromium-browser-l10n (99.0.4844.84-0ubuntu0.18.04.1) ...\n",
            "Selecting previously unselected package chromium-chromedriver.\n",
            "Preparing to unpack .../chromium-chromedriver_99.0.4844.84-0ubuntu0.18.04.1_amd64.deb ...\n",
            "Unpacking chromium-chromedriver (99.0.4844.84-0ubuntu0.18.04.1) ...\n",
            "Setting up chromium-codecs-ffmpeg-extra (99.0.4844.84-0ubuntu0.18.04.1) ...\n",
            "Setting up chromium-browser (99.0.4844.84-0ubuntu0.18.04.1) ...\n",
            "update-alternatives: using /usr/bin/chromium-browser to provide /usr/bin/x-www-browser (x-www-browser) in auto mode\n",
            "update-alternatives: using /usr/bin/chromium-browser to provide /usr/bin/gnome-www-browser (gnome-www-browser) in auto mode\n",
            "Setting up chromium-chromedriver (99.0.4844.84-0ubuntu0.18.04.1) ...\n",
            "Setting up chromium-browser-l10n (99.0.4844.84-0ubuntu0.18.04.1) ...\n",
            "Processing triggers for man-db (2.8.3-2ubuntu0.1) ...\n",
            "Processing triggers for hicolor-icon-theme (0.17-2) ...\n",
            "Processing triggers for mime-support (3.60ubuntu1) ...\n",
            "Processing triggers for libc-bin (2.27-3ubuntu1.3) ...\n",
            "/sbin/ldconfig.real: /usr/local/lib/python3.7/dist-packages/ideep4py/lib/libmkldnn.so.0 is not a symbolic link\n",
            "\n"
          ]
        }
      ]
    },
    {
      "cell_type": "code",
      "source": [
        "## selenuim 세팅\n",
        "\n",
        "from selenium import webdriver\n",
        "from selenium.webdriver.chrome.options import Options\n",
        "from selenium.webdriver.common.by import By\n",
        "\n",
        "\n",
        "options = Options()\n",
        "options.add_argument('--no-sandbox')\n",
        "options.add_argument('--headless')\n",
        "options.add_argument('--disable-dev-shm-usage')\n",
        "options.add_argument('user-agent=Mozilla/5.0 (Windows NT 10.0; Win64; x64) AppleWebKit/537.36 (KHTML, like Gecko) Chrome/99.0.4844.82 Safari/537.36')\n",
        "options.add_argument(\"disable-gpu\")   # 가속 사용 x\n",
        "options.add_argument(\"lang=ko_KR\")    # 가짜 플러그인 탑재\n",
        "\n",
        "#options.binary_location = \"/usr/bin/chromium-browser\"\n",
        "\n",
        "#chrome_options.add_argument('--headless')\n",
        "# chrome_options.add_argument('--no-sandbox')\n",
        "# chrome_options.add_argument('--disable-dev-shm-usage')\n",
        "# chrome_options.add_argument(\"disable-gpu\")   # 가속 사용 x\n",
        "# chrome_options.add_argument(\"lang=ko_KR\")    # 가짜 플러그인 탑재\n",
        "# chrome_options.add_argument('user-agent=Mozilla/5.0 (Macintosh; Intel Mac OS X 10_12_6) AppleWebKit/537.36 (KHTML, like Gecko) Chrome/61.0.3163.100 Safari/537.36')  # user-agent 이름 설정"
      ],
      "metadata": {
        "id": "CqUe8eMiv_jz"
      },
      "execution_count": null,
      "outputs": []
    },
    {
      "cell_type": "code",
      "source": [
        "## 환율 세팅\n",
        "\n",
        "import requests\n",
        "\n",
        "class RealTimeCurrencyConverter():\n",
        "  def __init__(self,url):\n",
        "      self.data= requests.get(url).json()\n",
        "      self.currencies = self.data['rates']\n",
        "\n",
        "  def convert(self, from_currency, to_currency, amount): \n",
        "      initial_amount = amount \n",
        "      #first convert it into USD if it is not in USD.\n",
        "      # because our base currency is USD\n",
        "      if from_currency != 'USD' : \n",
        "          amount = amount / self.currencies[from_currency] \n",
        "    \n",
        "      # limiting the precision to 4 decimal places \n",
        "      amount = round(amount * self.currencies[to_currency], 4) \n",
        "      return amount\n",
        "\n",
        "url = 'https://api.exchangerate-api.com/v4/latest/USD'\n",
        "converter = RealTimeCurrencyConverter(url)"
      ],
      "metadata": {
        "id": "T-9XFydi02lR",
        "colab": {
          "base_uri": "https://localhost:8080/"
        },
        "outputId": "85970a12-3161-4814-c179-d8ef2c001038"
      },
      "execution_count": null,
      "outputs": [
        {
          "output_type": "stream",
          "name": "stderr",
          "text": [
            "/usr/local/lib/python3.7/dist-packages/requests/__init__.py:91: RequestsDependencyWarning: urllib3 (1.26.9) or chardet (3.0.4) doesn't match a supported version!\n",
            "  RequestsDependencyWarning)\n"
          ]
        }
      ]
    },
    {
      "cell_type": "code",
      "source": [
        "from time import sleep"
      ],
      "metadata": {
        "id": "HZ3cBOXL1NKQ"
      },
      "execution_count": null,
      "outputs": []
    },
    {
      "cell_type": "code",
      "source": [
        "#URL = 'https://metering.ahnlabcloud.com/dashboard'\n",
        "URL = 'https://service.ahnlabcloud.com/'\n",
        "\n",
        "driver = webdriver.Chrome('chromedriver', options=options)\n",
        "driver.get(url=URL)"
      ],
      "metadata": {
        "id": "ZLCRXX-Yyo-6"
      },
      "execution_count": null,
      "outputs": []
    },
    {
      "cell_type": "code",
      "source": [
        "sleep(5)"
      ],
      "metadata": {
        "id": "kM0vOz5r1Qci"
      },
      "execution_count": null,
      "outputs": []
    },
    {
      "cell_type": "code",
      "source": [
        "print(driver.current_url)"
      ],
      "metadata": {
        "colab": {
          "base_uri": "https://localhost:8080/"
        },
        "id": "iWKkh1JG1mjv",
        "outputId": "a9e119bd-6504-4e89-9166-fd9742a2f210"
      },
      "execution_count": null,
      "outputs": [
        {
          "output_type": "stream",
          "name": "stdout",
          "text": [
            "https://service.ahnlabcloud.com/\n"
          ]
        }
      ]
    },
    {
      "cell_type": "code",
      "source": [
        "for i in range(10):\n",
        "  try:\n",
        "    driver.find_element(by=By.XPATH, value='/html/body/app/div/bg-gnb-not-login/header/div/div[2]/p/a[2]').click()\n",
        "    print(\"succeed\")\n",
        "    break\n",
        "  except:\n",
        "    continue"
      ],
      "metadata": {
        "id": "d2FjDmBtty5C",
        "colab": {
          "base_uri": "https://localhost:8080/"
        },
        "outputId": "5572f535-fd41-46a5-89b1-6b494594f3dd"
      },
      "execution_count": null,
      "outputs": [
        {
          "output_type": "stream",
          "name": "stdout",
          "text": [
            "succeed\n"
          ]
        }
      ]
    },
    {
      "cell_type": "code",
      "source": [
        "print(driver.current_url)"
      ],
      "metadata": {
        "colab": {
          "base_uri": "https://localhost:8080/"
        },
        "id": "8uQ7wPelvCL6",
        "outputId": "c2558bd6-9973-4820-9a95-3d0e194122b1"
      },
      "execution_count": null,
      "outputs": [
        {
          "output_type": "stream",
          "name": "stdout",
          "text": [
            "https://sso.ahnlabcloud.com/auth/realms/AHNLABCLOUD/protocol/openid-connect/auth?client_id=finops_front&redirect_uri=https%3A%2F%2Fservice.ahnlabcloud.com%2F&state=2d9ade16-9875-47b2-9ab0-be3279683935&response_mode=fragment&response_type=code&scope=openid&nonce=0ff06216-39c3-40a8-944d-ac1405df9f61&ui_locales=ko\n"
          ]
        }
      ]
    },
    {
      "cell_type": "code",
      "source": [
        "sleep(5)"
      ],
      "metadata": {
        "id": "3C9CtbXg1XdY"
      },
      "execution_count": null,
      "outputs": []
    },
    {
      "cell_type": "code",
      "source": [
        "#sleep(3)\n",
        "\n",
        "driver.find_element(by=By.XPATH, value='/html/body/div/section/div/form/p[1]/input').send_keys('shmoon2@astronsec.com')\n",
        "#####비번없앰\n",
        "driver.find_element(by=By.XPATH, value='/html/body/div/section/div/form/p[2]/input').send_keys('<비번>')\n",
        "\n",
        "\n",
        "driver.find_element(by=By.XPATH, value='/html/body/div/section/div/form/p[4]/button').click()"
      ],
      "metadata": {
        "id": "cxY3HLwzzXrb"
      },
      "execution_count": null,
      "outputs": []
    },
    {
      "cell_type": "code",
      "source": [
        "print(driver.current_url)"
      ],
      "metadata": {
        "colab": {
          "base_uri": "https://localhost:8080/"
        },
        "id": "8VkugH0q3nbQ",
        "outputId": "dc8340ef-156a-4401-c0db-16631961618f"
      },
      "execution_count": null,
      "outputs": [
        {
          "output_type": "stream",
          "name": "stdout",
          "text": [
            "https://service.ahnlabcloud.com/\n"
          ]
        }
      ]
    },
    {
      "cell_type": "code",
      "source": [
        "driver.get(url='https://metering.ahnlabcloud.com/dashboard')"
      ],
      "metadata": {
        "id": "1TUUos37tefl"
      },
      "execution_count": null,
      "outputs": []
    },
    {
      "cell_type": "code",
      "source": [
        "print(driver.current_url)"
      ],
      "metadata": {
        "colab": {
          "base_uri": "https://localhost:8080/"
        },
        "id": "b9TlJeI2UZDe",
        "outputId": "c238d216-7bc8-4c88-cd24-4f60c352253a"
      },
      "execution_count": null,
      "outputs": [
        {
          "output_type": "stream",
          "name": "stdout",
          "text": [
            "https://metering.ahnlabcloud.com/dashboard\n"
          ]
        }
      ]
    },
    {
      "cell_type": "code",
      "source": [
        "sleep(5)"
      ],
      "metadata": {
        "id": "bbYmxuUA1bJQ"
      },
      "execution_count": null,
      "outputs": []
    },
    {
      "cell_type": "code",
      "source": [
        "print(driver.current_url)"
      ],
      "metadata": {
        "colab": {
          "base_uri": "https://localhost:8080/"
        },
        "id": "FSA31j1ltf6S",
        "outputId": "b793ddc3-cff3-436c-e109-6f8b84bd0747"
      },
      "execution_count": null,
      "outputs": [
        {
          "output_type": "stream",
          "name": "stdout",
          "text": [
            "https://metering.ahnlabcloud.com/dashboard\n"
          ]
        }
      ]
    },
    {
      "cell_type": "code",
      "source": [
        "print(driver.find_element(by=By.XPATH, value='/html/body/div/app/main/dashboard/div/header/div[2]/dashboard-this-month/div[1]/dl/dt[1]').text)\n",
        "print(driver.find_element(by=By.XPATH, value='/html/body/div/app/main/dashboard/div/header/div[2]/dashboard-this-month/div[1]/dl/dt[2]').text)\n",
        "dollar=driver.find_element(by=By.XPATH, value='/html/body/div/app/main/dashboard/div/header/div[2]/dashboard-this-month/div[1]/dl/dd[1]/strong').text\n",
        "print(dollar)\n",
        "dollar=int(float(dollar[1:].replace(\",\",\"\")))\n",
        "d2w=converter.convert('USD','KRW',dollar)\n",
        "print('한국 환율 :',d2w)"
      ],
      "metadata": {
        "colab": {
          "base_uri": "https://localhost:8080/"
        },
        "id": "1it6CM7u1me6",
        "outputId": "d2028d6e-045d-4e10-b723-64464631c36a"
      },
      "execution_count": null,
      "outputs": [
        {
          "output_type": "stream",
          "name": "stdout",
          "text": [
            "총비용\n",
            "집계완료 (2022-04-01 ~ 2022-04-22)\n",
            "$1,719.14\n",
            "한국 환율 : 2135668.41\n"
          ]
        }
      ]
    },
    {
      "cell_type": "code",
      "source": [
        "driver.find_element(by=By.XPATH, value='/html/body/div/app/main/dashboard/div/dashboard-item-cost/section/div/div[1]/div[2]/div/button[2]').click()"
      ],
      "metadata": {
        "id": "prDwvp4M7nzb"
      },
      "execution_count": null,
      "outputs": []
    },
    {
      "cell_type": "code",
      "source": [
        "sleep(2)"
      ],
      "metadata": {
        "id": "3nII1UW_1jDp"
      },
      "execution_count": null,
      "outputs": []
    },
    {
      "cell_type": "code",
      "source": [
        "driver.find_element(by=By.XPATH, value='/html/body/div/app/main/dashboard/div/dashboard-item-cost/section/div/div[1]/div[2]/ag-grid/ag-grid-angular/div/div[2]/div[2]/div/div[1]/div/div[4]/div[1]/div/div[1]/div[1]/span').text"
      ],
      "metadata": {
        "colab": {
          "base_uri": "https://localhost:8080/",
          "height": 35
        },
        "id": "F-5TTCT3-sUo",
        "outputId": "d75e76de-7a3d-4bda-ef9e-110b8b8b5a48"
      },
      "execution_count": null,
      "outputs": [
        {
          "output_type": "execute_result",
          "data": {
            "text/plain": [
              "'Amazon Elastic Compute Cloud'"
            ],
            "application/vnd.google.colaboratory.intrinsic+json": {
              "type": "string"
            }
          },
          "metadata": {},
          "execution_count": 22
        }
      ]
    },
    {
      "cell_type": "code",
      "source": [
        "driver.find_element(by=By.XPATH, value='//*[@id=\"center\"]/div/div[4]/div[1]/div/div[1]/div[2]').text"
      ],
      "metadata": {
        "colab": {
          "base_uri": "https://localhost:8080/",
          "height": 35
        },
        "id": "i8iYBYlDBsWF",
        "outputId": "e83cc99c-b3a0-4489-f549-aec16a25bcdf"
      },
      "execution_count": null,
      "outputs": [
        {
          "output_type": "execute_result",
          "data": {
            "text/plain": [
              "'$1,330.49'"
            ],
            "application/vnd.google.colaboratory.intrinsic+json": {
              "type": "string"
            }
          },
          "metadata": {},
          "execution_count": 23
        }
      ]
    },
    {
      "cell_type": "code",
      "source": [
        "driver.find_element(by=By.XPATH, value='//*[@id=\"center\"]/div/div[4]/div[1]/div/div[2]/div[1]/span').text"
      ],
      "metadata": {
        "colab": {
          "base_uri": "https://localhost:8080/",
          "height": 35
        },
        "id": "JurVVUeUBsTk",
        "outputId": "44c1b6b7-934e-41be-ab72-a5762b336b9f"
      },
      "execution_count": null,
      "outputs": [
        {
          "output_type": "execute_result",
          "data": {
            "text/plain": [
              "'Elastic Load Balancing'"
            ],
            "application/vnd.google.colaboratory.intrinsic+json": {
              "type": "string"
            }
          },
          "metadata": {},
          "execution_count": 24
        }
      ]
    },
    {
      "cell_type": "code",
      "source": [
        "driver.find_element(by=By.XPATH, value='//*[@id=\"center\"]/div/div[4]/div[1]/div/div[2]/div[2]').text"
      ],
      "metadata": {
        "colab": {
          "base_uri": "https://localhost:8080/",
          "height": 35
        },
        "id": "q8gJLrYNBsRT",
        "outputId": "938df34a-528b-469a-d75d-106e2aecb5d0"
      },
      "execution_count": null,
      "outputs": [
        {
          "output_type": "execute_result",
          "data": {
            "text/plain": [
              "'$91.85'"
            ],
            "application/vnd.google.colaboratory.intrinsic+json": {
              "type": "string"
            }
          },
          "metadata": {},
          "execution_count": 25
        }
      ]
    },
    {
      "cell_type": "code",
      "source": [
        "driver.find_element(by=By.XPATH, value='//*[@id=\"center\"]/div/div[4]/div[1]/div/div[3]/div[1]/span').text"
      ],
      "metadata": {
        "colab": {
          "base_uri": "https://localhost:8080/",
          "height": 35
        },
        "id": "yLUikbu1BsO9",
        "outputId": "d88464ab-b000-4dbb-e6f0-7fead3d509ae"
      },
      "execution_count": null,
      "outputs": [
        {
          "output_type": "execute_result",
          "data": {
            "text/plain": [
              "'Amazon Relational Database Service'"
            ],
            "application/vnd.google.colaboratory.intrinsic+json": {
              "type": "string"
            }
          },
          "metadata": {},
          "execution_count": 26
        }
      ]
    },
    {
      "cell_type": "code",
      "source": [
        "driver.find_element(by=By.XPATH, value='//*[@id=\"center\"]/div/div[4]/div[1]/div/div[3]/div[2]').text"
      ],
      "metadata": {
        "colab": {
          "base_uri": "https://localhost:8080/",
          "height": 35
        },
        "id": "B34CwY5oBsMQ",
        "outputId": "2585b73c-1770-481e-99fc-bbb3597e6e1d"
      },
      "execution_count": null,
      "outputs": [
        {
          "output_type": "execute_result",
          "data": {
            "text/plain": [
              "'$48.51'"
            ],
            "application/vnd.google.colaboratory.intrinsic+json": {
              "type": "string"
            }
          },
          "metadata": {},
          "execution_count": 27
        }
      ]
    },
    {
      "cell_type": "code",
      "source": [
        "for ele in driver.find_elements(by=By.XPATH, value='//*[@id=\"product\"]/div/div/*[name()=\"svg\"]/*[name()=\"g\"][7]/*[name()=\"g\"]'):\n",
        "  print(ele.get_attribute(\"aria-label\"))"
      ],
      "metadata": {
        "colab": {
          "base_uri": "https://localhost:8080/"
        },
        "id": "8p6YI15GBsEO",
        "outputId": "fdfd51da-bb86-43de-a776-2e71f9fa1862"
      },
      "execution_count": null,
      "outputs": [
        {
          "output_type": "stream",
          "name": "stdout",
          "text": [
            "CloudWatch Events: 0.00% 0.000055 \n",
            "Amazon Simple Queue Service: 0.00% 0.0017247999999999999 \n",
            "Amazon EC2 Container Registry (ECR): 0.00% 0.012550359000000002 \n",
            "AWS CloudTrail: 0.00% 0.07017149999999998 \n",
            "Amazon Route 53: 0.02% 0.301108 \n",
            "AWS Secrets Manager: 0.02% 0.30464169079999975 \n",
            "AWS Certificate Manager: 0.04% 0.75 \n",
            "AWS Key Management Service: 0.05% 0.8410226727000003 \n",
            "Amazon Macie: 0.05% 0.8680320000000004 \n",
            "Amazon Simple Storage Service: 0.10% 1.6451291780000001 \n",
            "Amazon Lightsail: 0.15% 2.5474 \n",
            "Amazon Inspector: 0.20% 3.45 \n",
            "AWS Data Transfer: 0.26% 4.482630826200002 \n",
            "Amazon Detective: 0.56% 9.6250074441 \n",
            "AWS Security Hub: 0.62% 10.689999999999998 \n",
            "Amazon GuardDuty: 0.74% 12.6499800808 \n",
            "Amazon Virtual Private Cloud: 0.82% 14.118000000000004 \n",
            "AWS Config: 0.90% 15.482600000000001 \n",
            "AWS WAF: 0.96% 16.530555633699997 \n",
            "AmazonCloudWatch: 1.06% 18.161526398399968 \n",
            "Ubuntu 20 (Ubuntu 20.04 LTS) with Support by Supported Images: 1.58% 27.14999999999999 \n",
            "Ubuntu 16 (Ubuntu 16.04 LTS) with Support by Supported Images: 1.58% 27.14999999999999 \n",
            "Hardened Redhat 7: 1.58% 27.14999999999999 \n",
            "Ubuntu 18 (Ubuntu 18.04 LTS) with Support by Supported Images: 1.58% 27.14999999999999 \n",
            "Oracle Linux 7 with Support by Supported Images: 1.58% 27.14999999999999 \n",
            "Amazon Relational Database Service: 2.82% 48.51444021480001 \n",
            "Elastic Load Balancing: 5.34% 91.85376455099997 \n",
            "Amazon Elastic Compute Cloud: 77.39% 1,330.4879926228002 \n"
          ]
        }
      ]
    },
    {
      "cell_type": "code",
      "source": [
        "driver.get(url='https://asset.ahnlabcloud.com/#/dashboard')"
      ],
      "metadata": {
        "id": "II7W9N1a3JQZ"
      },
      "execution_count": null,
      "outputs": []
    },
    {
      "cell_type": "code",
      "source": [
        "print(driver.current_url)"
      ],
      "metadata": {
        "colab": {
          "base_uri": "https://localhost:8080/"
        },
        "id": "j6oH-cd43JNw",
        "outputId": "d64753f8-cec0-43f3-d50c-f721d0dd8812"
      },
      "execution_count": null,
      "outputs": [
        {
          "output_type": "stream",
          "name": "stdout",
          "text": [
            "https://asset.ahnlabcloud.com/#/dashboard\n"
          ]
        }
      ]
    },
    {
      "cell_type": "code",
      "source": [
        "sleep(5)"
      ],
      "metadata": {
        "id": "MHZogZyBTxGd"
      },
      "execution_count": null,
      "outputs": []
    },
    {
      "cell_type": "code",
      "source": [
        "driver.find_element(by=By.XPATH, value='/html/body/app/div/main/bg-asset-dashboard/div/header/div/div[1]/div[3]/div/dl[1]/dd/div[1]').text"
      ],
      "metadata": {
        "colab": {
          "base_uri": "https://localhost:8080/",
          "height": 35
        },
        "id": "sZEQrvSr3JHg",
        "outputId": "4b6c9c51-adab-476d-ec0b-b83c7834cfe8"
      },
      "execution_count": null,
      "outputs": [
        {
          "output_type": "execute_result",
          "data": {
            "text/plain": [
              "'온디맨드\\n39ea\\n32 7 0'"
            ],
            "application/vnd.google.colaboratory.intrinsic+json": {
              "type": "string"
            }
          },
          "metadata": {},
          "execution_count": 32
        }
      ]
    },
    {
      "cell_type": "code",
      "source": [
        "driver.find_element(by=By.XPATH, value='/html/body/app/div/main/bg-asset-dashboard/div/header/div/div[2]/div[3]/ul/li[9]/div').text"
      ],
      "metadata": {
        "colab": {
          "base_uri": "https://localhost:8080/",
          "height": 35
        },
        "id": "WgFkITyZjrL7",
        "outputId": "788a8654-e177-4575-d929-c0783f04ef1e"
      },
      "execution_count": null,
      "outputs": [
        {
          "output_type": "execute_result",
          "data": {
            "text/plain": [
              "'ELB\\n5'"
            ],
            "application/vnd.google.colaboratory.intrinsic+json": {
              "type": "string"
            }
          },
          "metadata": {},
          "execution_count": 33
        }
      ]
    },
    {
      "cell_type": "code",
      "source": [
        "driver.close()"
      ],
      "metadata": {
        "id": "XfdIlWQ61j4x"
      },
      "execution_count": null,
      "outputs": []
    },
    {
      "cell_type": "code",
      "source": [
        ""
      ],
      "metadata": {
        "id": "rNkcfBSmT8h3"
      },
      "execution_count": null,
      "outputs": []
    },
    {
      "cell_type": "code",
      "source": [
        ""
      ],
      "metadata": {
        "id": "jhIGWKFHY6xf"
      },
      "execution_count": null,
      "outputs": []
    },
    {
      "cell_type": "markdown",
      "source": [
        "# SCK - AZURE"
      ],
      "metadata": {
        "id": "S6pX1uZAY8MM"
      }
    },
    {
      "cell_type": "code",
      "source": [
        "driver = webdriver.Chrome('chromedriver', options=options)"
      ],
      "metadata": {
        "id": "fmM-vqJ-Y7RM"
      },
      "execution_count": null,
      "outputs": []
    },
    {
      "cell_type": "code",
      "source": [
        "driver.get(url='https://msp.sckcorp.co.kr/')"
      ],
      "metadata": {
        "id": "PLkPgtmkZVN1"
      },
      "execution_count": null,
      "outputs": []
    },
    {
      "cell_type": "code",
      "source": [
        "print(driver.current_url)"
      ],
      "metadata": {
        "colab": {
          "base_uri": "https://localhost:8080/"
        },
        "id": "DJKC3EONZCTt",
        "outputId": "f652182c-280a-4a89-d03e-15c814257925"
      },
      "execution_count": null,
      "outputs": [
        {
          "output_type": "stream",
          "name": "stdout",
          "text": [
            "https://msp.sckcorp.co.kr/\n"
          ]
        }
      ]
    },
    {
      "cell_type": "code",
      "source": [
        "for i in range(100):\n",
        "  try:\n",
        "    driver.find_element(by=By.XPATH, value='/html/body/app/div/bg-gnb-not-login/header/div/div[2]/p/a[2]').click()\n",
        "    print(\"succeed\")\n",
        "    break\n",
        "  except:\n",
        "    continue"
      ],
      "metadata": {
        "colab": {
          "base_uri": "https://localhost:8080/"
        },
        "outputId": "e2f475c0-ec30-4ad3-9822-17423b9a2b35",
        "id": "hJljMa06axCX"
      },
      "execution_count": null,
      "outputs": [
        {
          "output_type": "stream",
          "name": "stdout",
          "text": [
            "succeed\n"
          ]
        }
      ]
    },
    {
      "cell_type": "code",
      "source": [
        "print(driver.current_url)"
      ],
      "metadata": {
        "colab": {
          "base_uri": "https://localhost:8080/"
        },
        "outputId": "3c831bc9-be24-47f5-a4d2-a232806daf02",
        "id": "Kwk8aogIaxCe"
      },
      "execution_count": null,
      "outputs": [
        {
          "output_type": "stream",
          "name": "stdout",
          "text": [
            "https://sso.sckcorp.co.kr/auth/realms/SBCK/protocol/openid-connect/auth?client_id=finops_front&redirect_uri=https%3A%2F%2Fmsp.sckcorp.co.kr%2F&state=84faa718-ea6d-4459-8fe8-08175844e3e7&response_mode=fragment&response_type=code&scope=openid&nonce=776065f9-b59e-4e4e-a62d-d44257513e67&ui_locales=ko\n"
          ]
        }
      ]
    },
    {
      "cell_type": "code",
      "source": [
        "sleep(5)"
      ],
      "metadata": {
        "id": "4gMsy8-ra4Wf"
      },
      "execution_count": null,
      "outputs": []
    },
    {
      "cell_type": "code",
      "source": [
        "#sleep(3)\n",
        "\n",
        "driver.find_element(by=By.XPATH, value='/html/body/div/section/div/form/p[1]/input').send_keys('shmoon2@astronsec.com')\n",
        "driver.find_element(by=By.XPATH, value='/html/body/div/section/div/form/p[2]/input').send_keys('<비번>')\n",
        "\n",
        "driver.find_element(by=By.XPATH, value='/html/body/div/section/div/form/p[4]/button').click()"
      ],
      "metadata": {
        "id": "4cVdt02Aa4Wf"
      },
      "execution_count": null,
      "outputs": []
    },
    {
      "cell_type": "code",
      "source": [
        "print(driver.current_url)"
      ],
      "metadata": {
        "colab": {
          "base_uri": "https://localhost:8080/"
        },
        "outputId": "6a3ad095-e8f6-4df5-dd36-9709d3d09209",
        "id": "2vDXGz2ha4Wg"
      },
      "execution_count": null,
      "outputs": [
        {
          "output_type": "stream",
          "name": "stdout",
          "text": [
            "https://msp.sckcorp.co.kr/\n"
          ]
        }
      ]
    },
    {
      "cell_type": "code",
      "source": [
        "driver.get(url='https://metering.sckcorp.co.kr/dashboard')"
      ],
      "metadata": {
        "id": "KKgY-V49a4Wg"
      },
      "execution_count": null,
      "outputs": []
    },
    {
      "cell_type": "code",
      "source": [
        "print(driver.current_url)"
      ],
      "metadata": {
        "colab": {
          "base_uri": "https://localhost:8080/"
        },
        "outputId": "a0a6ba0a-d4f0-4a0c-e83d-18b2098692d6",
        "id": "meYv7lNZa4Wg"
      },
      "execution_count": null,
      "outputs": [
        {
          "output_type": "stream",
          "name": "stdout",
          "text": [
            "https://metering.sckcorp.co.kr/dashboard\n"
          ]
        }
      ]
    },
    {
      "cell_type": "code",
      "source": [
        "sleep(5)"
      ],
      "metadata": {
        "id": "XJHThCzra4Wg"
      },
      "execution_count": null,
      "outputs": []
    },
    {
      "cell_type": "code",
      "source": [
        "print(driver.current_url)"
      ],
      "metadata": {
        "colab": {
          "base_uri": "https://localhost:8080/"
        },
        "outputId": "605836ff-8f32-4613-9b3b-b39a1dd73150",
        "id": "fYVlJgbda4Wg"
      },
      "execution_count": null,
      "outputs": [
        {
          "output_type": "stream",
          "name": "stdout",
          "text": [
            "https://metering.sckcorp.co.kr/dashboard\n"
          ]
        }
      ]
    },
    {
      "cell_type": "code",
      "source": [
        "print(driver.find_element(by=By.XPATH, value='/html/body/div/app/main/dashboard/div/header/div[2]/dashboard-this-month/div[1]/dl/dt[1]').text)\n",
        "print(driver.find_element(by=By.XPATH, value='/html/body/div/app/main/dashboard/div/header/div[2]/dashboard-this-month/div[1]/dl/dt[2]').text)\n",
        "azure_tmp=driver.find_element(by=By.XPATH, value='/html/body/div/app/main/dashboard/div/header/div[2]/dashboard-this-month/div[1]/dl/dd[1]/strong').text\n",
        "print(azure_tmp)\n",
        "#d2w=int(float(dollar[1:].replace(\",\",\"\")))\n",
        "#print('한국 환율 :',converter.convert('USD','KRW',d2w))\n",
        "azure_weekly=int(azure_tmp.replace(\",\",\"\").replace(\"₩\",\"\"))"
      ],
      "metadata": {
        "colab": {
          "base_uri": "https://localhost:8080/"
        },
        "outputId": "02c8ae6b-5755-4cf5-8ea8-46d954f12a92",
        "id": "sqvGzE6ya4Wh"
      },
      "execution_count": null,
      "outputs": [
        {
          "output_type": "stream",
          "name": "stdout",
          "text": [
            "총비용\n",
            "집계완료 (2022-04-01 ~ 2022-04-21)\n",
            "₩2,408,731\n"
          ]
        }
      ]
    },
    {
      "cell_type": "code",
      "source": [
        "driver.find_element(by=By.XPATH, value='/html/body/div/app/main/dashboard/div/dashboard-item-cost/section/div/div[1]/div[2]/div/button[2]').click()"
      ],
      "metadata": {
        "id": "b8WY-VTma4Wh"
      },
      "execution_count": null,
      "outputs": []
    },
    {
      "cell_type": "code",
      "source": [
        "sleep(2)"
      ],
      "metadata": {
        "id": "uxukoBgma4Wh"
      },
      "execution_count": null,
      "outputs": []
    },
    {
      "cell_type": "code",
      "source": [
        "driver.find_element(by=By.XPATH, value='//*[@id=\"center\"]/div/div[4]/div[1]/div/div[1]/div[1]/span').text"
      ],
      "metadata": {
        "colab": {
          "base_uri": "https://localhost:8080/",
          "height": 35
        },
        "outputId": "a9d0015b-f05b-4d08-898a-21b7587799d7",
        "id": "SVPQbAHqa4Wh"
      },
      "execution_count": null,
      "outputs": [
        {
          "output_type": "execute_result",
          "data": {
            "text/plain": [
              "'Azure Firewall|Azure Firewall'"
            ],
            "application/vnd.google.colaboratory.intrinsic+json": {
              "type": "string"
            }
          },
          "metadata": {},
          "execution_count": 50
        }
      ]
    },
    {
      "cell_type": "code",
      "source": [
        "driver.find_element(by=By.XPATH, value='//*[@id=\"center\"]/div/div[4]/div[1]/div/div[1]/div[2]').text"
      ],
      "metadata": {
        "colab": {
          "base_uri": "https://localhost:8080/",
          "height": 35
        },
        "outputId": "2fa2560d-57e2-424a-980b-28fb8185d690",
        "id": "fuk-xt8sa4Wh"
      },
      "execution_count": null,
      "outputs": [
        {
          "output_type": "execute_result",
          "data": {
            "text/plain": [
              "'₩1,207,240'"
            ],
            "application/vnd.google.colaboratory.intrinsic+json": {
              "type": "string"
            }
          },
          "metadata": {},
          "execution_count": 51
        }
      ]
    },
    {
      "cell_type": "code",
      "source": [
        "driver.find_element(by=By.XPATH, value='//*[@id=\"center\"]/div/div[4]/div[1]/div/div[2]/div[1]/span').text"
      ],
      "metadata": {
        "colab": {
          "base_uri": "https://localhost:8080/",
          "height": 35
        },
        "outputId": "fcac0691-eea4-4656-cd3c-31da9c2c6262",
        "id": "ZOFoxFp1a4Wh"
      },
      "execution_count": null,
      "outputs": [
        {
          "output_type": "execute_result",
          "data": {
            "text/plain": [
              "'Virtual Machines|Virtual Machines BS Series'"
            ],
            "application/vnd.google.colaboratory.intrinsic+json": {
              "type": "string"
            }
          },
          "metadata": {},
          "execution_count": 52
        }
      ]
    },
    {
      "cell_type": "code",
      "source": [
        "VM_total=0\n",
        "for i in range(1,11):\n",
        "  product_name = driver.find_element(by=By.XPATH, value='//*[@id=\"center\"]/div/div[4]/div[1]/div/div[{}]/div[1]/span'.format(i)).text\n",
        "  bill_amount = driver.find_element(by=By.XPATH, value='//*[@id=\"center\"]/div/div[4]/div[1]/div/div[{}]/div[2]'.format(i)).text\n",
        "  \n",
        "  if 'Virtual Machines' in product_name:\n",
        "    print(product_name)\n",
        "    bill_amount=int(bill_amount.replace(\"₩\",\"\").replace(\",\",\"\"))\n",
        "    print(bill_amount)\n",
        "    VM_total+=bill_amount\n",
        "\n",
        "print('-------------------------')\n",
        "print('VM Total : ',VM_total)"
      ],
      "metadata": {
        "colab": {
          "base_uri": "https://localhost:8080/"
        },
        "id": "0qhU95BscaD3",
        "outputId": "30ebdec1-8dc9-46ac-b083-2ca8d3157e8b"
      },
      "execution_count": null,
      "outputs": [
        {
          "output_type": "stream",
          "name": "stdout",
          "text": [
            "Virtual Machines|Virtual Machines BS Series\n",
            "510715\n",
            "Virtual Machines|Virtual Machines BS Series Windows\n",
            "217161\n",
            "Virtual Machines|Virtual Machines Dv2 Series\n",
            "30397\n",
            "-------------------------\n",
            "VM Total :  758273\n"
          ]
        }
      ]
    },
    {
      "cell_type": "code",
      "source": [
        "driver.find_element(by=By.XPATH, value='//*[@id=\"center\"]/div/div[4]/div[1]/div/div[2]/div[2]').text"
      ],
      "metadata": {
        "colab": {
          "base_uri": "https://localhost:8080/",
          "height": 35
        },
        "outputId": "fb145f3b-4b19-4ab1-dee6-f819aa7a6119",
        "id": "ef7Udjrra4Wi"
      },
      "execution_count": null,
      "outputs": [
        {
          "output_type": "execute_result",
          "data": {
            "text/plain": [
              "'₩510,715'"
            ],
            "application/vnd.google.colaboratory.intrinsic+json": {
              "type": "string"
            }
          },
          "metadata": {},
          "execution_count": 54
        }
      ]
    },
    {
      "cell_type": "code",
      "source": [
        "driver.find_element(by=By.XPATH, value='//*[@id=\"center\"]/div/div[4]/div[1]/div/div[3]/div[1]/span').text"
      ],
      "metadata": {
        "colab": {
          "base_uri": "https://localhost:8080/",
          "height": 35
        },
        "outputId": "20661649-3634-4f3f-a08c-06d2b7c39cec",
        "id": "QWve_4X0a4Wi"
      },
      "execution_count": null,
      "outputs": [
        {
          "output_type": "execute_result",
          "data": {
            "text/plain": [
              "'Storage|Premium SSD Managed Disks'"
            ],
            "application/vnd.google.colaboratory.intrinsic+json": {
              "type": "string"
            }
          },
          "metadata": {},
          "execution_count": 55
        }
      ]
    },
    {
      "cell_type": "code",
      "source": [
        "driver.find_element(by=By.XPATH, value='//*[@id=\"center\"]/div/div[4]/div[1]/div/div[3]/div[2]').text"
      ],
      "metadata": {
        "colab": {
          "base_uri": "https://localhost:8080/",
          "height": 35
        },
        "outputId": "73fb42ba-14c6-478f-dbbf-b3fd9a00f9a3",
        "id": "sbcw0WSma4Wi"
      },
      "execution_count": null,
      "outputs": [
        {
          "output_type": "execute_result",
          "data": {
            "text/plain": [
              "'₩226,725'"
            ],
            "application/vnd.google.colaboratory.intrinsic+json": {
              "type": "string"
            }
          },
          "metadata": {},
          "execution_count": 56
        }
      ]
    },
    {
      "cell_type": "code",
      "source": [
        "VM_percentage=[]\n",
        "for ele in driver.find_elements(by=By.XPATH, value='//*[@id=\"product\"]/div/div/*[name()=\"svg\"]/*[name()=\"g\"][7]/*[name()=\"g\"]'):\n",
        "  svg=ele.get_attribute(\"aria-label\")\n",
        "  print(svg)\n",
        "  if 'Virtual Machines' in svg:\n",
        "    VM_percentage.append(svg)"
      ],
      "metadata": {
        "colab": {
          "base_uri": "https://localhost:8080/"
        },
        "outputId": "bc566365-60a9-433f-f48e-6430ad392f56",
        "id": "imipYzxRa4Wi"
      },
      "execution_count": null,
      "outputs": [
        {
          "output_type": "stream",
          "name": "stdout",
          "text": [
            "Storage|Queues: 0.00% 0.0075530016000000064 \n",
            "Storage|General Block Blob: 0.00% 0.22571179200000008 \n",
            "Storage|Blob Storage: 0.00% 0.41814744000000026 \n",
            "Storage|Tables: 0.00% 0.9094944681000003 \n",
            "Azure Firewall Manager|Azure Firewall Manager: 0.00% 2.5066890000000006 \n",
            "Log Analytics|Log Analytics: 0.00% 3.537302045340002 \n",
            "Network Watcher|Network Watcher: 0.00% 4.879200000000002 \n",
            "Storage|Files: 0.01% 262.51964733600016 \n",
            "Bandwidth|Bandwidth Inter-Region: 0.01% 287.12351930903986 \n",
            "Bandwidth|Bandwidth: 0.10% 2,300.385812301109 \n",
            "Storage|Standard HDD Managed Disks: 0.20% 4,933.6583345004 \n",
            "Load Balancer|Load Balancer: 0.22% 5,245.3741523200815 \n",
            "NAT Gateway|NAT Gateway: 1.17% 28,159.083000000017 \n",
            "Virtual Machines|Virtual Machines Dv2 Series: 1.26% 30,397.133813907603 \n",
            "Virtual Network|IP Addresses: 2.29% 55,147.2828262789 \n",
            "Virtual Network|Public IP Prefix: 4.99% 120,145.4208000001 \n",
            "Virtual Machines|Virtual Machines BS Series Windows: 9.02% 217,161.02351916014 \n",
            "Storage|Premium SSD Managed Disks: 9.41% 226,724.63389237665 \n",
            "Virtual Machines|Virtual Machines BS Series: 21.20% 510,715.4298767707 \n",
            "Azure Firewall|Azure Firewall: 50.12% 1,207,239.5102028851 \n"
          ]
        }
      ]
    },
    {
      "cell_type": "code",
      "source": [
        "for vm_percent in VM_percentage:\n",
        "  print(vm_percent)"
      ],
      "metadata": {
        "colab": {
          "base_uri": "https://localhost:8080/"
        },
        "id": "kjG2234tikJZ",
        "outputId": "ee3ff1c3-083d-40fe-cff2-15b33caa5f91"
      },
      "execution_count": null,
      "outputs": [
        {
          "output_type": "stream",
          "name": "stdout",
          "text": [
            "Virtual Machines|Virtual Machines Dv2 Series: 1.26% 30,397.133813907603 \n",
            "Virtual Machines|Virtual Machines BS Series Windows: 9.02% 217,161.02351916014 \n",
            "Virtual Machines|Virtual Machines BS Series: 21.20% 510,715.4298767707 \n"
          ]
        }
      ]
    },
    {
      "cell_type": "code",
      "source": [
        "driver.get(url='https://asset.sckcorp.co.kr/#/dashboard')"
      ],
      "metadata": {
        "id": "OuzvTh51a4Wi"
      },
      "execution_count": null,
      "outputs": []
    },
    {
      "cell_type": "code",
      "source": [
        "print(driver.current_url)"
      ],
      "metadata": {
        "colab": {
          "base_uri": "https://localhost:8080/"
        },
        "outputId": "bd417e6e-85f6-43e0-dfcf-e62b08e94027",
        "id": "Oj6LBCSMa4Wi"
      },
      "execution_count": null,
      "outputs": [
        {
          "output_type": "stream",
          "name": "stdout",
          "text": [
            "https://asset.sckcorp.co.kr/#/dashboard\n"
          ]
        }
      ]
    },
    {
      "cell_type": "code",
      "source": [
        "sleep(5)"
      ],
      "metadata": {
        "id": "K2crj_WVa4Wi"
      },
      "execution_count": null,
      "outputs": []
    },
    {
      "cell_type": "code",
      "source": [
        "driver.find_element(by=By.XPATH, value='/html/body/app/div/main/bg-asset-dashboard/div/header/div/div[1]/div[3]/div/dl[1]/dd/div[1]').text"
      ],
      "metadata": {
        "colab": {
          "base_uri": "https://localhost:8080/",
          "height": 35
        },
        "outputId": "0d9973a5-71e9-4dc0-d244-e4faf6000e1b",
        "id": "mwPn72tLa4Wi"
      },
      "execution_count": null,
      "outputs": [
        {
          "output_type": "execute_result",
          "data": {
            "text/plain": [
              "'온디맨드\\n18ea\\n17 1 0'"
            ],
            "application/vnd.google.colaboratory.intrinsic+json": {
              "type": "string"
            }
          },
          "metadata": {},
          "execution_count": 62
        }
      ]
    },
    {
      "cell_type": "code",
      "source": [
        "driver.find_element(by=By.XPATH, value='/html/body/app/div/main/bg-asset-dashboard/div/header/div/div[2]/div[3]/ul/li[1]/div').text"
      ],
      "metadata": {
        "colab": {
          "base_uri": "https://localhost:8080/",
          "height": 35
        },
        "id": "5TdYGLo7jIdZ",
        "outputId": "73c4509f-e376-478c-ab4e-4e438d468fae"
      },
      "execution_count": null,
      "outputs": [
        {
          "output_type": "execute_result",
          "data": {
            "text/plain": [
              "'Disk\\n20'"
            ],
            "application/vnd.google.colaboratory.intrinsic+json": {
              "type": "string"
            }
          },
          "metadata": {},
          "execution_count": 63
        }
      ]
    },
    {
      "cell_type": "code",
      "source": [
        ""
      ],
      "metadata": {
        "id": "PeKQ_Xiaj_mY"
      },
      "execution_count": null,
      "outputs": []
    },
    {
      "cell_type": "markdown",
      "source": [
        "# 합계"
      ],
      "metadata": {
        "id": "WA_aYmvds5sW"
      }
    },
    {
      "cell_type": "code",
      "source": [
        "if new_month_flag==1:\n",
        "  AWS_total_dlr_old=0\n",
        "  AWS_total_old=0\n",
        "  AZURE_total_old=0\n",
        "  month_accum_old=0\n",
        "\n",
        "AWS_total_dlr_new=dollar-AWS_total_dlr_old\n",
        "AWS_total_new=d2w-AWS_total_old\n",
        "AZURE_total_new=azure_weekly-AZURE_total_old\n",
        "#month_accum_new=month_accum_old+d2w+azure_weekly\n",
        "month_accum_new=d2w+azure_weekly\n",
        "\n",
        "print('월단위누적',month_accum_new)\n",
        "\n",
        "print('1주일 합계',AWS_total_new+AZURE_total_new)\n",
        "print('AWS 총액',AWS_total_dlr_new)\n",
        "print('AWS 총액',AWS_total_new)\n",
        "print('AZURE 총액',AZURE_total_new)"
      ],
      "metadata": {
        "colab": {
          "base_uri": "https://localhost:8080/"
        },
        "id": "Ostzh2NzqHTA",
        "outputId": "3feefc7f-7d79-4926-ce5f-f2ac46c8f9d7"
      },
      "execution_count": null,
      "outputs": [
        {
          "output_type": "stream",
          "name": "stdout",
          "text": [
            "월단위누적 4544399.41\n",
            "1주일 합계 2092399.4100000001\n",
            "AWS 총액 610\n",
            "AWS 총액 999668.4100000001\n",
            "AZURE 총액 1092731\n"
          ]
        }
      ]
    },
    {
      "cell_type": "code",
      "source": [
        "driver.close()"
      ],
      "metadata": {
        "id": "RughLsYbsIxP"
      },
      "execution_count": null,
      "outputs": []
    },
    {
      "cell_type": "code",
      "source": [
        ""
      ],
      "metadata": {
        "id": "w3lb63TbtmaD"
      },
      "execution_count": null,
      "outputs": []
    }
  ]
}